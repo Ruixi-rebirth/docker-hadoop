{
 "cells": [
  {
   "cell_type": "code",
   "execution_count": 2,
   "id": "9e564f38-130f-45fa-bdc4-d0ce6bf079a1",
   "metadata": {},
   "outputs": [
    {
     "name": "stdout",
     "output_type": "stream",
     "text": [
      "Number of elements in RDD -> 8\n"
     ]
    },
    {
     "name": "stderr",
     "output_type": "stream",
     "text": [
      "                                                                                \r"
     ]
    }
   ],
   "source": [
    "from pyspark import SparkContext\n",
    "sc.stop()\n",
    "sc = SparkContext(\"local\", \"count app\")\n",
    "words = sc.parallelize(\n",
    "    [\"scala\",\n",
    "     \"java\",\n",
    "     \"hadoop\",\n",
    "     \"spark\",\n",
    "     \"akka\",\n",
    "     \"spark vs hadoop\",\n",
    "     \"pyspark\",\n",
    "     \"pyspark and spark\"\n",
    "     ])\n",
    "counts = words.count()\n",
    "print(\"Number of elements in RDD -> %i\" % counts)"
   ]
  },
  {
   "cell_type": "code",
   "execution_count": null,
   "id": "231a4ae8-61c7-4067-91b0-638839969312",
   "metadata": {},
   "outputs": [],
   "source": []
  }
 ],
 "metadata": {
  "kernelspec": {
   "display_name": "Python 3 (ipykernel)",
   "language": "python",
   "name": "python3"
  },
  "language_info": {
   "codemirror_mode": {
    "name": "ipython",
    "version": 3
   },
   "file_extension": ".py",
   "mimetype": "text/x-python",
   "name": "python",
   "nbconvert_exporter": "python",
   "pygments_lexer": "ipython3",
   "version": "3.9.12"
  }
 },
 "nbformat": 4,
 "nbformat_minor": 5
}
